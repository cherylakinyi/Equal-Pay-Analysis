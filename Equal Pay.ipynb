{
 "cells": [
  {
   "cell_type": "markdown",
   "id": "9f96971a",
   "metadata": {},
   "source": [
    "# PREDICTING PAY WITH OTHER INDICATORS"
   ]
  },
  {
   "cell_type": "markdown",
   "id": "3a7f86e5",
   "metadata": {},
   "source": [
    "### WHAT FACTORS CONTIBUTES TO GENDER PAY GAP IN 2022"
   ]
  },
  {
   "cell_type": "markdown",
   "id": "f3106824",
   "metadata": {},
   "source": [
    "### PREPARE DATA"
   ]
  },
  {
   "cell_type": "code",
   "execution_count": 1,
   "id": "13b1c5d9",
   "metadata": {},
   "outputs": [],
   "source": [
    "#import libraries\n",
    "import pandas as pd\n",
    "import numpy as np\n",
    "import matplotlib.pyplot as plt\n",
    "import seaborn as sns\n",
    "from category_encoders import OneHotEncoder\n",
    "from sklearn.linear_model import LinearRegression\n",
    "from sklearn.metrics import mean_absolute_error\n",
    "from sklearn.pipeline import Pipeline, make_pipeline\n"
   ]
  },
  {
   "cell_type": "markdown",
   "id": "1977cfbb",
   "metadata": {},
   "source": [
    "#### IMPORT "
   ]
  },
  {
   "cell_type": "code",
   "execution_count": 2,
   "id": "57ebee12",
   "metadata": {
    "scrolled": false
   },
   "outputs": [
    {
     "name": "stdout",
     "output_type": "stream",
     "text": [
      "(190, 13)\n",
      "<class 'pandas.core.frame.DataFrame'>\n",
      "RangeIndex: 190 entries, 0 to 189\n",
      "Data columns (total 13 columns):\n",
      " #   Column            Non-Null Count  Dtype  \n",
      "---  ------            --------------  -----  \n",
      " 0   Economy           190 non-null    object \n",
      " 1   ISO Code          190 non-null    object \n",
      " 2   Region            190 non-null    object \n",
      " 3   Income Group      190 non-null    object \n",
      " 4   WBL INDEX         190 non-null    float64\n",
      " 5   MOBILITY          190 non-null    int64  \n",
      " 6   WORKPLACE         190 non-null    int64  \n",
      " 7   PAY               190 non-null    int64  \n",
      " 8   MARRIAGE          190 non-null    int64  \n",
      " 9   PARENTHOOD        190 non-null    int64  \n",
      " 10  ENTREPRENEURSHIP  190 non-null    int64  \n",
      " 11  ASSETS            190 non-null    int64  \n",
      " 12  PENSION           190 non-null    int64  \n",
      "dtypes: float64(1), int64(8), object(4)\n",
      "memory usage: 19.4+ KB\n",
      "None\n"
     ]
    },
    {
     "data": {
      "text/html": [
       "<div>\n",
       "<style scoped>\n",
       "    .dataframe tbody tr th:only-of-type {\n",
       "        vertical-align: middle;\n",
       "    }\n",
       "\n",
       "    .dataframe tbody tr th {\n",
       "        vertical-align: top;\n",
       "    }\n",
       "\n",
       "    .dataframe thead th {\n",
       "        text-align: right;\n",
       "    }\n",
       "</style>\n",
       "<table border=\"1\" class=\"dataframe\">\n",
       "  <thead>\n",
       "    <tr style=\"text-align: right;\">\n",
       "      <th></th>\n",
       "      <th>Economy</th>\n",
       "      <th>ISO Code</th>\n",
       "      <th>Region</th>\n",
       "      <th>Income Group</th>\n",
       "      <th>WBL INDEX</th>\n",
       "      <th>MOBILITY</th>\n",
       "      <th>WORKPLACE</th>\n",
       "      <th>PAY</th>\n",
       "      <th>MARRIAGE</th>\n",
       "      <th>PARENTHOOD</th>\n",
       "      <th>ENTREPRENEURSHIP</th>\n",
       "      <th>ASSETS</th>\n",
       "      <th>PENSION</th>\n",
       "    </tr>\n",
       "  </thead>\n",
       "  <tbody>\n",
       "    <tr>\n",
       "      <th>0</th>\n",
       "      <td>Afghanistan</td>\n",
       "      <td>AFG</td>\n",
       "      <td>South Asia</td>\n",
       "      <td>Low income</td>\n",
       "      <td>38.125</td>\n",
       "      <td>50</td>\n",
       "      <td>75</td>\n",
       "      <td>0</td>\n",
       "      <td>20</td>\n",
       "      <td>20</td>\n",
       "      <td>75</td>\n",
       "      <td>40</td>\n",
       "      <td>25</td>\n",
       "    </tr>\n",
       "    <tr>\n",
       "      <th>1</th>\n",
       "      <td>Albania</td>\n",
       "      <td>ALB</td>\n",
       "      <td>Europe &amp; Central Asia</td>\n",
       "      <td>Upper middle income</td>\n",
       "      <td>91.250</td>\n",
       "      <td>100</td>\n",
       "      <td>100</td>\n",
       "      <td>100</td>\n",
       "      <td>100</td>\n",
       "      <td>80</td>\n",
       "      <td>100</td>\n",
       "      <td>100</td>\n",
       "      <td>50</td>\n",
       "    </tr>\n",
       "    <tr>\n",
       "      <th>2</th>\n",
       "      <td>Algeria</td>\n",
       "      <td>DZA</td>\n",
       "      <td>Middle East &amp; North Africa</td>\n",
       "      <td>Lower middle income</td>\n",
       "      <td>57.500</td>\n",
       "      <td>75</td>\n",
       "      <td>75</td>\n",
       "      <td>50</td>\n",
       "      <td>60</td>\n",
       "      <td>60</td>\n",
       "      <td>75</td>\n",
       "      <td>40</td>\n",
       "      <td>25</td>\n",
       "    </tr>\n",
       "    <tr>\n",
       "      <th>3</th>\n",
       "      <td>Angola</td>\n",
       "      <td>AGO</td>\n",
       "      <td>Sub-Saharan Africa</td>\n",
       "      <td>Lower middle income</td>\n",
       "      <td>79.375</td>\n",
       "      <td>100</td>\n",
       "      <td>100</td>\n",
       "      <td>50</td>\n",
       "      <td>100</td>\n",
       "      <td>60</td>\n",
       "      <td>100</td>\n",
       "      <td>100</td>\n",
       "      <td>25</td>\n",
       "    </tr>\n",
       "    <tr>\n",
       "      <th>4</th>\n",
       "      <td>Antigua and Barbuda</td>\n",
       "      <td>ATG</td>\n",
       "      <td>Latin America &amp; Caribbean</td>\n",
       "      <td>High income</td>\n",
       "      <td>66.250</td>\n",
       "      <td>75</td>\n",
       "      <td>50</td>\n",
       "      <td>75</td>\n",
       "      <td>100</td>\n",
       "      <td>0</td>\n",
       "      <td>75</td>\n",
       "      <td>80</td>\n",
       "      <td>75</td>\n",
       "    </tr>\n",
       "  </tbody>\n",
       "</table>\n",
       "</div>"
      ],
      "text/plain": [
       "               Economy ISO Code                      Region  \\\n",
       "0          Afghanistan      AFG                  South Asia   \n",
       "1              Albania      ALB       Europe & Central Asia   \n",
       "2              Algeria      DZA  Middle East & North Africa   \n",
       "3               Angola      AGO          Sub-Saharan Africa   \n",
       "4  Antigua and Barbuda      ATG   Latin America & Caribbean   \n",
       "\n",
       "          Income Group  WBL INDEX  MOBILITY  WORKPLACE  PAY  MARRIAGE  \\\n",
       "0           Low income     38.125        50         75    0        20   \n",
       "1  Upper middle income     91.250       100        100  100       100   \n",
       "2  Lower middle income     57.500        75         75   50        60   \n",
       "3  Lower middle income     79.375       100        100   50       100   \n",
       "4          High income     66.250        75         50   75       100   \n",
       "\n",
       "   PARENTHOOD  ENTREPRENEURSHIP  ASSETS  PENSION  \n",
       "0          20                75      40       25  \n",
       "1          80               100     100       50  \n",
       "2          60                75      40       25  \n",
       "3          60               100     100       25  \n",
       "4           0                75      80       75  "
      ]
     },
     "execution_count": 2,
     "metadata": {},
     "output_type": "execute_result"
    }
   ],
   "source": [
    "#read in the data and inspect for cleaning\n",
    "df = pd.read_excel('/Users/Cheryl/Downloads/WBL-1971-2022-Dataset-Updated.xlsx', sheet_name=2)\n",
    "print(df.shape)\n",
    "print(df.info())\n",
    "df.head()"
   ]
  },
  {
   "cell_type": "code",
   "execution_count": 3,
   "id": "f5c44d46",
   "metadata": {
    "scrolled": true
   },
   "outputs": [
    {
     "data": {
      "text/html": [
       "<div>\n",
       "<style scoped>\n",
       "    .dataframe tbody tr th:only-of-type {\n",
       "        vertical-align: middle;\n",
       "    }\n",
       "\n",
       "    .dataframe tbody tr th {\n",
       "        vertical-align: top;\n",
       "    }\n",
       "\n",
       "    .dataframe thead th {\n",
       "        text-align: right;\n",
       "    }\n",
       "</style>\n",
       "<table border=\"1\" class=\"dataframe\">\n",
       "  <thead>\n",
       "    <tr style=\"text-align: right;\">\n",
       "      <th></th>\n",
       "      <th>WBL INDEX</th>\n",
       "      <th>MOBILITY</th>\n",
       "      <th>WORKPLACE</th>\n",
       "      <th>PAY</th>\n",
       "      <th>MARRIAGE</th>\n",
       "      <th>PARENTHOOD</th>\n",
       "      <th>ENTREPRENEURSHIP</th>\n",
       "      <th>ASSETS</th>\n",
       "      <th>PENSION</th>\n",
       "    </tr>\n",
       "  </thead>\n",
       "  <tbody>\n",
       "    <tr>\n",
       "      <th>count</th>\n",
       "      <td>190.000000</td>\n",
       "      <td>190.000000</td>\n",
       "      <td>190.000000</td>\n",
       "      <td>190.000000</td>\n",
       "      <td>190.000000</td>\n",
       "      <td>190.000000</td>\n",
       "      <td>190.000000</td>\n",
       "      <td>190.000000</td>\n",
       "      <td>190.000000</td>\n",
       "    </tr>\n",
       "    <tr>\n",
       "      <th>mean</th>\n",
       "      <td>76.546053</td>\n",
       "      <td>88.552632</td>\n",
       "      <td>80.526316</td>\n",
       "      <td>68.684211</td>\n",
       "      <td>80.105263</td>\n",
       "      <td>55.578947</td>\n",
       "      <td>84.342105</td>\n",
       "      <td>81.157895</td>\n",
       "      <td>73.421053</td>\n",
       "    </tr>\n",
       "    <tr>\n",
       "      <th>std</th>\n",
       "      <td>17.015774</td>\n",
       "      <td>20.984622</td>\n",
       "      <td>29.022648</td>\n",
       "      <td>29.873725</td>\n",
       "      <td>27.487168</td>\n",
       "      <td>31.629997</td>\n",
       "      <td>17.104219</td>\n",
       "      <td>26.760278</td>\n",
       "      <td>25.924832</td>\n",
       "    </tr>\n",
       "    <tr>\n",
       "      <th>min</th>\n",
       "      <td>26.250000</td>\n",
       "      <td>0.000000</td>\n",
       "      <td>0.000000</td>\n",
       "      <td>0.000000</td>\n",
       "      <td>0.000000</td>\n",
       "      <td>0.000000</td>\n",
       "      <td>0.000000</td>\n",
       "      <td>0.000000</td>\n",
       "      <td>0.000000</td>\n",
       "    </tr>\n",
       "    <tr>\n",
       "      <th>25%</th>\n",
       "      <td>67.031250</td>\n",
       "      <td>75.000000</td>\n",
       "      <td>50.000000</td>\n",
       "      <td>50.000000</td>\n",
       "      <td>60.000000</td>\n",
       "      <td>40.000000</td>\n",
       "      <td>75.000000</td>\n",
       "      <td>60.000000</td>\n",
       "      <td>50.000000</td>\n",
       "    </tr>\n",
       "    <tr>\n",
       "      <th>50%</th>\n",
       "      <td>80.000000</td>\n",
       "      <td>100.000000</td>\n",
       "      <td>100.000000</td>\n",
       "      <td>75.000000</td>\n",
       "      <td>100.000000</td>\n",
       "      <td>60.000000</td>\n",
       "      <td>75.000000</td>\n",
       "      <td>100.000000</td>\n",
       "      <td>75.000000</td>\n",
       "    </tr>\n",
       "    <tr>\n",
       "      <th>75%</th>\n",
       "      <td>88.125000</td>\n",
       "      <td>100.000000</td>\n",
       "      <td>100.000000</td>\n",
       "      <td>100.000000</td>\n",
       "      <td>100.000000</td>\n",
       "      <td>80.000000</td>\n",
       "      <td>100.000000</td>\n",
       "      <td>100.000000</td>\n",
       "      <td>100.000000</td>\n",
       "    </tr>\n",
       "    <tr>\n",
       "      <th>max</th>\n",
       "      <td>100.000000</td>\n",
       "      <td>100.000000</td>\n",
       "      <td>100.000000</td>\n",
       "      <td>100.000000</td>\n",
       "      <td>100.000000</td>\n",
       "      <td>100.000000</td>\n",
       "      <td>100.000000</td>\n",
       "      <td>100.000000</td>\n",
       "      <td>100.000000</td>\n",
       "    </tr>\n",
       "  </tbody>\n",
       "</table>\n",
       "</div>"
      ],
      "text/plain": [
       "        WBL INDEX    MOBILITY   WORKPLACE         PAY    MARRIAGE  PARENTHOOD  \\\n",
       "count  190.000000  190.000000  190.000000  190.000000  190.000000  190.000000   \n",
       "mean    76.546053   88.552632   80.526316   68.684211   80.105263   55.578947   \n",
       "std     17.015774   20.984622   29.022648   29.873725   27.487168   31.629997   \n",
       "min     26.250000    0.000000    0.000000    0.000000    0.000000    0.000000   \n",
       "25%     67.031250   75.000000   50.000000   50.000000   60.000000   40.000000   \n",
       "50%     80.000000  100.000000  100.000000   75.000000  100.000000   60.000000   \n",
       "75%     88.125000  100.000000  100.000000  100.000000  100.000000   80.000000   \n",
       "max    100.000000  100.000000  100.000000  100.000000  100.000000  100.000000   \n",
       "\n",
       "       ENTREPRENEURSHIP      ASSETS     PENSION  \n",
       "count        190.000000  190.000000  190.000000  \n",
       "mean          84.342105   81.157895   73.421053  \n",
       "std           17.104219   26.760278   25.924832  \n",
       "min            0.000000    0.000000    0.000000  \n",
       "25%           75.000000   60.000000   50.000000  \n",
       "50%           75.000000  100.000000   75.000000  \n",
       "75%          100.000000  100.000000  100.000000  \n",
       "max          100.000000  100.000000  100.000000  "
      ]
     },
     "execution_count": 3,
     "metadata": {},
     "output_type": "execute_result"
    }
   ],
   "source": [
    "#summary statistics\n",
    "df.describe()"
   ]
  },
  {
   "cell_type": "code",
   "execution_count": 4,
   "id": "d3ddb20f",
   "metadata": {
    "scrolled": false
   },
   "outputs": [
    {
     "data": {
      "image/png": "[encoded data removed]",
      "text/plain": [
       "<Figure size 432x288 with 1 Axes>"
      ]
     },
     "metadata": {
      "needs_background": "light"
     },
     "output_type": "display_data"
    }
   ],
   "source": [
    "mean_indicator = df[['MOBILITY', 'WORKPLACE', 'PAY', 'MARRIAGE', 'PARENTHOOD', 'ENTREPRENEURSHIP', 'ASSETS', 'PENSION']].mean().sort_values(ascending=False)\n",
    "mean_WBL_index = df[\"WBL INDEX\"].mean()\n",
    "\n",
    "mean_indicator.plot(kind=\"bar\")\n",
    "plt.axhline(mean_WBL_index, linestyle=\"--\", color=\"red\", label=\"Global avearge 76.5\")\n",
    "plt.xlabel(\"Indicators\")\n",
    "plt.ylabel(\"WBL Index\")\n",
    "plt.title(\"Average WBL Scores by Indicator\");"
   ]
  },
  {
   "cell_type": "code",
   "execution_count": 5,
   "id": "9a422683",
   "metadata": {},
   "outputs": [
    {
     "name": "stdout",
     "output_type": "stream",
     "text": [
      "Income Group\n",
      "High income            86.348684\n",
      "Upper middle income    77.884615\n",
      "Lower middle income    70.340909\n",
      "Low income             65.504808\n",
      "Name: WBL INDEX, dtype: float64\n"
     ]
    },
    {
     "data": {
      "image/png": "[encoded data removed]",
      "text/plain": [
       "<Figure size 432x288 with 1 Axes>"
      ]
     },
     "metadata": {
      "needs_background": "light"
     },
     "output_type": "display_data"
    }
   ],
   "source": [
    "mean_pay_by_income_group = df.groupby(\"Income Group\")[\"WBL INDEX\"].mean().sort_values(ascending=False)\n",
    "print(mean_pay_by_income_group)\n",
    "mean_pay_by_income_group.plot(kind=\"bar\", xlabel=\"Income Group\", ylabel=\"WBL Index\", title=\"Mean WBL Scores by Income Group\");"
   ]
  },
  {
   "cell_type": "markdown",
   "id": "e7068531",
   "metadata": {},
   "source": [
    "#### EXPLORE"
   ]
  },
  {
   "cell_type": "code",
   "execution_count": 6,
   "id": "cf3fcde8",
   "metadata": {},
   "outputs": [],
   "source": [
    "# Drop leaky column\n",
    "df.drop(columns=\"WBL INDEX\", inplace=True)"
   ]
  },
  {
   "cell_type": "code",
   "execution_count": 7,
   "id": "8fe3174b",
   "metadata": {},
   "outputs": [
    {
     "data": {
      "text/html": [
       "<div>\n",
       "<style scoped>\n",
       "    .dataframe tbody tr th:only-of-type {\n",
       "        vertical-align: middle;\n",
       "    }\n",
       "\n",
       "    .dataframe tbody tr th {\n",
       "        vertical-align: top;\n",
       "    }\n",
       "\n",
       "    .dataframe thead th {\n",
       "        text-align: right;\n",
       "    }\n",
       "</style>\n",
       "<table border=\"1\" class=\"dataframe\">\n",
       "  <thead>\n",
       "    <tr style=\"text-align: right;\">\n",
       "      <th></th>\n",
       "      <th>MOBILITY</th>\n",
       "      <th>WORKPLACE</th>\n",
       "      <th>PAY</th>\n",
       "      <th>MARRIAGE</th>\n",
       "      <th>PARENTHOOD</th>\n",
       "      <th>ENTREPRENEURSHIP</th>\n",
       "      <th>ASSETS</th>\n",
       "      <th>PENSION</th>\n",
       "    </tr>\n",
       "  </thead>\n",
       "  <tbody>\n",
       "    <tr>\n",
       "      <th>0</th>\n",
       "      <td>50</td>\n",
       "      <td>75</td>\n",
       "      <td>0</td>\n",
       "      <td>20</td>\n",
       "      <td>20</td>\n",
       "      <td>75</td>\n",
       "      <td>40</td>\n",
       "      <td>25</td>\n",
       "    </tr>\n",
       "    <tr>\n",
       "      <th>1</th>\n",
       "      <td>100</td>\n",
       "      <td>100</td>\n",
       "      <td>100</td>\n",
       "      <td>100</td>\n",
       "      <td>80</td>\n",
       "      <td>100</td>\n",
       "      <td>100</td>\n",
       "      <td>50</td>\n",
       "    </tr>\n",
       "    <tr>\n",
       "      <th>2</th>\n",
       "      <td>75</td>\n",
       "      <td>75</td>\n",
       "      <td>50</td>\n",
       "      <td>60</td>\n",
       "      <td>60</td>\n",
       "      <td>75</td>\n",
       "      <td>40</td>\n",
       "      <td>25</td>\n",
       "    </tr>\n",
       "    <tr>\n",
       "      <th>3</th>\n",
       "      <td>100</td>\n",
       "      <td>100</td>\n",
       "      <td>50</td>\n",
       "      <td>100</td>\n",
       "      <td>60</td>\n",
       "      <td>100</td>\n",
       "      <td>100</td>\n",
       "      <td>25</td>\n",
       "    </tr>\n",
       "    <tr>\n",
       "      <th>4</th>\n",
       "      <td>75</td>\n",
       "      <td>50</td>\n",
       "      <td>75</td>\n",
       "      <td>100</td>\n",
       "      <td>0</td>\n",
       "      <td>75</td>\n",
       "      <td>80</td>\n",
       "      <td>75</td>\n",
       "    </tr>\n",
       "    <tr>\n",
       "      <th>...</th>\n",
       "      <td>...</td>\n",
       "      <td>...</td>\n",
       "      <td>...</td>\n",
       "      <td>...</td>\n",
       "      <td>...</td>\n",
       "      <td>...</td>\n",
       "      <td>...</td>\n",
       "      <td>...</td>\n",
       "    </tr>\n",
       "    <tr>\n",
       "      <th>185</th>\n",
       "      <td>100</td>\n",
       "      <td>100</td>\n",
       "      <td>100</td>\n",
       "      <td>100</td>\n",
       "      <td>80</td>\n",
       "      <td>100</td>\n",
       "      <td>100</td>\n",
       "      <td>0</td>\n",
       "    </tr>\n",
       "    <tr>\n",
       "      <th>186</th>\n",
       "      <td>25</td>\n",
       "      <td>25</td>\n",
       "      <td>0</td>\n",
       "      <td>20</td>\n",
       "      <td>0</td>\n",
       "      <td>75</td>\n",
       "      <td>40</td>\n",
       "      <td>25</td>\n",
       "    </tr>\n",
       "    <tr>\n",
       "      <th>187</th>\n",
       "      <td>25</td>\n",
       "      <td>25</td>\n",
       "      <td>25</td>\n",
       "      <td>0</td>\n",
       "      <td>0</td>\n",
       "      <td>75</td>\n",
       "      <td>40</td>\n",
       "      <td>25</td>\n",
       "    </tr>\n",
       "    <tr>\n",
       "      <th>188</th>\n",
       "      <td>75</td>\n",
       "      <td>100</td>\n",
       "      <td>100</td>\n",
       "      <td>80</td>\n",
       "      <td>40</td>\n",
       "      <td>100</td>\n",
       "      <td>80</td>\n",
       "      <td>75</td>\n",
       "    </tr>\n",
       "    <tr>\n",
       "      <th>189</th>\n",
       "      <td>100</td>\n",
       "      <td>100</td>\n",
       "      <td>75</td>\n",
       "      <td>80</td>\n",
       "      <td>40</td>\n",
       "      <td>100</td>\n",
       "      <td>100</td>\n",
       "      <td>100</td>\n",
       "    </tr>\n",
       "  </tbody>\n",
       "</table>\n",
       "<p>190 rows × 8 columns</p>\n",
       "</div>"
      ],
      "text/plain": [
       "     MOBILITY  WORKPLACE  PAY  MARRIAGE  PARENTHOOD  ENTREPRENEURSHIP  ASSETS  \\\n",
       "0          50         75    0        20          20                75      40   \n",
       "1         100        100  100       100          80               100     100   \n",
       "2          75         75   50        60          60                75      40   \n",
       "3         100        100   50       100          60               100     100   \n",
       "4          75         50   75       100           0                75      80   \n",
       "..        ...        ...  ...       ...         ...               ...     ...   \n",
       "185       100        100  100       100          80               100     100   \n",
       "186        25         25    0        20           0                75      40   \n",
       "187        25         25   25         0           0                75      40   \n",
       "188        75        100  100        80          40               100      80   \n",
       "189       100        100   75        80          40               100     100   \n",
       "\n",
       "     PENSION  \n",
       "0         25  \n",
       "1         50  \n",
       "2         25  \n",
       "3         25  \n",
       "4         75  \n",
       "..       ...  \n",
       "185        0  \n",
       "186       25  \n",
       "187       25  \n",
       "188       75  \n",
       "189      100  \n",
       "\n",
       "[190 rows x 8 columns]"
      ]
     },
     "execution_count": 7,
     "metadata": {},
     "output_type": "execute_result"
    }
   ],
   "source": [
    "# Drop low- and high-cardinality categorical features\n",
    "df.drop(columns=[\"Economy\", \"ISO Code\", \"Region\", \"Income Group\"])"
   ]
  },
  {
   "cell_type": "code",
   "execution_count": 8,
   "id": "62348083",
   "metadata": {
    "scrolled": true
   },
   "outputs": [
    {
     "data": {
      "image/png": "[encoded data removed]",
      "text/plain": [
       "<Figure size 432x288 with 2 Axes>"
      ]
     },
     "metadata": {
      "needs_background": "light"
     },
     "output_type": "display_data"
    }
   ],
   "source": [
    "# Check for Multicollinearity\n",
    "corr = df.drop(columns = [\"PAY\"]).corr()\n",
    "sns.heatmap(corr);"
   ]
  },
  {
   "cell_type": "code",
   "execution_count": 9,
   "id": "547d9d25",
   "metadata": {
    "scrolled": true
   },
   "outputs": [
    {
     "name": "stdout",
     "output_type": "stream",
     "text": [
      "corr1: 0.2507706840182652\n",
      "corr2: 0.3713125898715267\n",
      "corr3: 0.37464055924993955\n"
     ]
    }
   ],
   "source": [
    "print(\"corr1:\", df[\"PAY\"].corr(df[\"ASSETS\"]))\n",
    "print(\"corr2:\", df[\"PAY\"].corr(df[\"MARRIAGE\"]))\n",
    "print(\"corr3:\",df[\"PAY\"].corr(df[\"MOBILITY\"]))"
   ]
  },
  {
   "cell_type": "code",
   "execution_count": 10,
   "id": "bc948bf5",
   "metadata": {},
   "outputs": [],
   "source": [
    "# Drop multicollinearity column\n",
    "df.drop(columns=[\"ASSETS\", \"MARRIAGE\", \"MOBILITY\"], inplace=True)"
   ]
  },
  {
   "cell_type": "markdown",
   "id": "ca9db93f",
   "metadata": {},
   "source": [
    "#### SPLIT"
   ]
  },
  {
   "cell_type": "code",
   "execution_count": 12,
   "id": "186055d4",
   "metadata": {},
   "outputs": [],
   "source": [
    "# Create feature matrix \"X_train\" and target vector \"y_train\"\n",
    "target = \"PAY\"\n",
    "features = ['WORKPLACE', 'PARENTHOOD', 'ENTREPRENEURSHIP', 'PENSION']\n",
    "X_train = df[features]\n",
    "y_train = df[target]"
   ]
  },
  {
   "cell_type": "markdown",
   "id": "bcb4ca80",
   "metadata": {},
   "source": [
    "### BUILD MODEL"
   ]
  },
  {
   "cell_type": "markdown",
   "id": "c1452e2b",
   "metadata": {},
   "source": [
    "#### BASELINE"
   ]
  },
  {
   "cell_type": "code",
   "execution_count": 13,
   "id": "99e7e72e",
   "metadata": {},
   "outputs": [
    {
     "name": "stdout",
     "output_type": "stream",
     "text": [
      "Mean PAY: 68.68\n",
      "Baseline MAE: 25.34\n"
     ]
    }
   ],
   "source": [
    "# Calculate the baseline mean absolute error\n",
    "y_mean = y_train.mean()\n",
    "y_pred_baseline = [y_mean] * len(y_train)\n",
    "mae_baseline = mean_absolute_error(y_train, y_pred_baseline)\n",
    "print(\"Mean PAY:\", round(y_mean, 2))\n",
    "print(\"Baseline MAE:\", round(mae_baseline, 2))"
   ]
  },
  {
   "cell_type": "markdown",
   "id": "870f648e",
   "metadata": {},
   "source": [
    "#### ITERATE"
   ]
  },
  {
   "cell_type": "code",
   "execution_count": 14,
   "id": "99118404",
   "metadata": {},
   "outputs": [
    {
     "name": "stdout",
     "output_type": "stream",
     "text": [
      "Warning: No categorical columns found. Calling 'transform' will only return input data.\n"
     ]
    },
    {
     "data": {
      "text/html": [
       "<style>#sk-container-id-1 {color: black;background-color: white;}#sk-container-id-1 pre{padding: 0;}#sk-container-id-1 div.sk-toggleable {background-color: white;}#sk-container-id-1 label.sk-toggleable__label {cursor: pointer;display: block;width: 100%;margin-bottom: 0;padding: 0.3em;box-sizing: border-box;text-align: center;}#sk-container-id-1 label.sk-toggleable__label-arrow:before {content: \"▸\";float: left;margin-right: 0.25em;color: #696969;}#sk-container-id-1 label.sk-toggleable__label-arrow:hover:before {color: black;}#sk-container-id-1 div.sk-estimator:hover label.sk-toggleable__label-arrow:before {color: black;}#sk-container-id-1 div.sk-toggleable__content {max-height: 0;max-width: 0;overflow: hidden;text-align: left;background-color: #f0f8ff;}#sk-container-id-1 div.sk-toggleable__content pre {margin: 0.2em;color: black;border-radius: 0.25em;background-color: #f0f8ff;}#sk-container-id-1 input.sk-toggleable__control:checked~div.sk-toggleable__content {max-height: 200px;max-width: 100%;overflow: auto;}#sk-container-id-1 input.sk-toggleable__control:checked~label.sk-toggleable__label-arrow:before {content: \"▾\";}#sk-container-id-1 div.sk-estimator input.sk-toggleable__control:checked~label.sk-toggleable__label {background-color: #d4ebff;}#sk-container-id-1 div.sk-label input.sk-toggleable__control:checked~label.sk-toggleable__label {background-color: #d4ebff;}#sk-container-id-1 input.sk-hidden--visually {border: 0;clip: rect(1px 1px 1px 1px);clip: rect(1px, 1px, 1px, 1px);height: 1px;margin: -1px;overflow: hidden;padding: 0;position: absolute;width: 1px;}#sk-container-id-1 div.sk-estimator {font-family: monospace;background-color: #f0f8ff;border: 1px dotted black;border-radius: 0.25em;box-sizing: border-box;margin-bottom: 0.5em;}#sk-container-id-1 div.sk-estimator:hover {background-color: #d4ebff;}#sk-container-id-1 div.sk-parallel-item::after {content: \"\";width: 100%;border-bottom: 1px solid gray;flex-grow: 1;}#sk-container-id-1 div.sk-label:hover label.sk-toggleable__label {background-color: #d4ebff;}#sk-container-id-1 div.sk-serial::before {content: \"\";position: absolute;border-left: 1px solid gray;box-sizing: border-box;top: 0;bottom: 0;left: 50%;z-index: 0;}#sk-container-id-1 div.sk-serial {display: flex;flex-direction: column;align-items: center;background-color: white;padding-right: 0.2em;padding-left: 0.2em;position: relative;}#sk-container-id-1 div.sk-item {position: relative;z-index: 1;}#sk-container-id-1 div.sk-parallel {display: flex;align-items: stretch;justify-content: center;background-color: white;position: relative;}#sk-container-id-1 div.sk-item::before, #sk-container-id-1 div.sk-parallel-item::before {content: \"\";position: absolute;border-left: 1px solid gray;box-sizing: border-box;top: 0;bottom: 0;left: 50%;z-index: -1;}#sk-container-id-1 div.sk-parallel-item {display: flex;flex-direction: column;z-index: 1;position: relative;background-color: white;}#sk-container-id-1 div.sk-parallel-item:first-child::after {align-self: flex-end;width: 50%;}#sk-container-id-1 div.sk-parallel-item:last-child::after {align-self: flex-start;width: 50%;}#sk-container-id-1 div.sk-parallel-item:only-child::after {width: 0;}#sk-container-id-1 div.sk-dashed-wrapped {border: 1px dashed gray;margin: 0 0.4em 0.5em 0.4em;box-sizing: border-box;padding-bottom: 0.4em;background-color: white;}#sk-container-id-1 div.sk-label label {font-family: monospace;font-weight: bold;display: inline-block;line-height: 1.2em;}#sk-container-id-1 div.sk-label-container {text-align: center;}#sk-container-id-1 div.sk-container {/* jupyter's `normalize.less` sets `[hidden] { display: none; }` but bootstrap.min.css set `[hidden] { display: none !important; }` so we also need the `!important` here to be able to override the default hidden behavior on the sphinx rendered scikit-learn.org. See: https://github.com/scikit-learn/scikit-learn/issues/21755 */display: inline-block !important;position: relative;}#sk-container-id-1 div.sk-text-repr-fallback {display: none;}</style><div id=\"sk-container-id-1\" class=\"sk-top-container\"><div class=\"sk-text-repr-fallback\"><pre>Pipeline(steps=[(&#x27;onehotencoder&#x27;, OneHotEncoder(cols=[], use_cat_names=True)),\n",
       "                (&#x27;linearregression&#x27;, LinearRegression())])</pre><b>In a Jupyter environment, please rerun this cell to show the HTML representation or trust the notebook. <br />On GitHub, the HTML representation is unable to render, please try loading this page with nbviewer.org.</b></div><div class=\"sk-container\" hidden><div class=\"sk-item sk-dashed-wrapped\"><div class=\"sk-label-container\"><div class=\"sk-label sk-toggleable\"><input class=\"sk-toggleable__control sk-hidden--visually\" id=\"sk-estimator-id-1\" type=\"checkbox\" ><label for=\"sk-estimator-id-1\" class=\"sk-toggleable__label sk-toggleable__label-arrow\">Pipeline</label><div class=\"sk-toggleable__content\"><pre>Pipeline(steps=[(&#x27;onehotencoder&#x27;, OneHotEncoder(cols=[], use_cat_names=True)),\n",
       "                (&#x27;linearregression&#x27;, LinearRegression())])</pre></div></div></div><div class=\"sk-serial\"><div class=\"sk-item\"><div class=\"sk-estimator sk-toggleable\"><input class=\"sk-toggleable__control sk-hidden--visually\" id=\"sk-estimator-id-2\" type=\"checkbox\" ><label for=\"sk-estimator-id-2\" class=\"sk-toggleable__label sk-toggleable__label-arrow\">OneHotEncoder</label><div class=\"sk-toggleable__content\"><pre>OneHotEncoder(cols=[], use_cat_names=True)</pre></div></div></div><div class=\"sk-item\"><div class=\"sk-estimator sk-toggleable\"><input class=\"sk-toggleable__control sk-hidden--visually\" id=\"sk-estimator-id-3\" type=\"checkbox\" ><label for=\"sk-estimator-id-3\" class=\"sk-toggleable__label sk-toggleable__label-arrow\">LinearRegression</label><div class=\"sk-toggleable__content\"><pre>LinearRegression()</pre></div></div></div></div></div></div></div>"
      ],
      "text/plain": [
       "Pipeline(steps=[('onehotencoder', OneHotEncoder(cols=[], use_cat_names=True)),\n",
       "                ('linearregression', LinearRegression())])"
      ]
     },
     "execution_count": 14,
     "metadata": {},
     "output_type": "execute_result"
    }
   ],
   "source": [
    "# Create a pipeline named \"model\" \n",
    "model = make_pipeline(\n",
    "    OneHotEncoder(use_cat_names=True),\n",
    "    LinearRegression()\n",
    ")\n",
    "model.fit(X_train, y_train)"
   ]
  },
  {
   "cell_type": "markdown",
   "id": "22b8c3f9",
   "metadata": {},
   "source": [
    "### EVALUATE"
   ]
  },
  {
   "cell_type": "code",
   "execution_count": 15,
   "id": "e0ba8afb",
   "metadata": {},
   "outputs": [
    {
     "name": "stdout",
     "output_type": "stream",
     "text": [
      "Training MAE: 21.71\n"
     ]
    }
   ],
   "source": [
    "# Calculate the training mean absolute error\n",
    "y_pred_training = model.predict(X_train)\n",
    "mae_training = mean_absolute_error(y_train, y_pred_training)\n",
    "print(\"Training MAE:\", round(mae_training, 2))"
   ]
  },
  {
   "cell_type": "markdown",
   "id": "5f89f46f",
   "metadata": {},
   "source": [
    "Our model beats the baseline by 4.02! That's a good indicator that will be helpful in predicting pay. "
   ]
  },
  {
   "cell_type": "code",
   "execution_count": 16,
   "id": "93da0620",
   "metadata": {},
   "outputs": [
    {
     "data": {
      "text/html": [
       "<div>\n",
       "<style scoped>\n",
       "    .dataframe tbody tr th:only-of-type {\n",
       "        vertical-align: middle;\n",
       "    }\n",
       "\n",
       "    .dataframe tbody tr th {\n",
       "        vertical-align: top;\n",
       "    }\n",
       "\n",
       "    .dataframe thead th {\n",
       "        text-align: right;\n",
       "    }\n",
       "</style>\n",
       "<table border=\"1\" class=\"dataframe\">\n",
       "  <thead>\n",
       "    <tr style=\"text-align: right;\">\n",
       "      <th></th>\n",
       "      <th>WORKPLACE</th>\n",
       "      <th>PARENTHOOD</th>\n",
       "      <th>ENTREPRENEURSHIP</th>\n",
       "      <th>PENSION</th>\n",
       "    </tr>\n",
       "  </thead>\n",
       "  <tbody>\n",
       "    <tr>\n",
       "      <th>0</th>\n",
       "      <td>75</td>\n",
       "      <td>20</td>\n",
       "      <td>75</td>\n",
       "      <td>25</td>\n",
       "    </tr>\n",
       "    <tr>\n",
       "      <th>1</th>\n",
       "      <td>100</td>\n",
       "      <td>80</td>\n",
       "      <td>100</td>\n",
       "      <td>50</td>\n",
       "    </tr>\n",
       "    <tr>\n",
       "      <th>2</th>\n",
       "      <td>75</td>\n",
       "      <td>60</td>\n",
       "      <td>75</td>\n",
       "      <td>25</td>\n",
       "    </tr>\n",
       "    <tr>\n",
       "      <th>3</th>\n",
       "      <td>100</td>\n",
       "      <td>60</td>\n",
       "      <td>100</td>\n",
       "      <td>25</td>\n",
       "    </tr>\n",
       "    <tr>\n",
       "      <th>4</th>\n",
       "      <td>50</td>\n",
       "      <td>0</td>\n",
       "      <td>75</td>\n",
       "      <td>75</td>\n",
       "    </tr>\n",
       "  </tbody>\n",
       "</table>\n",
       "</div>"
      ],
      "text/plain": [
       "   WORKPLACE  PARENTHOOD  ENTREPRENEURSHIP  PENSION\n",
       "0         75          20                75       25\n",
       "1        100          80               100       50\n",
       "2         75          60                75       25\n",
       "3        100          60               100       25\n",
       "4         50           0                75       75"
      ]
     },
     "execution_count": 16,
     "metadata": {},
     "output_type": "execute_result"
    }
   ],
   "source": [
    "X_train.head()"
   ]
  },
  {
   "cell_type": "code",
   "execution_count": 17,
   "id": "07e9d706",
   "metadata": {
    "scrolled": true
   },
   "outputs": [
    {
     "data": {
      "text/html": [
       "<div>\n",
       "<style scoped>\n",
       "    .dataframe tbody tr th:only-of-type {\n",
       "        vertical-align: middle;\n",
       "    }\n",
       "\n",
       "    .dataframe tbody tr th {\n",
       "        vertical-align: top;\n",
       "    }\n",
       "\n",
       "    .dataframe thead th {\n",
       "        text-align: right;\n",
       "    }\n",
       "</style>\n",
       "<table border=\"1\" class=\"dataframe\">\n",
       "  <thead>\n",
       "    <tr style=\"text-align: right;\">\n",
       "      <th></th>\n",
       "      <th>WORKPLACE</th>\n",
       "      <th>PARENTHOOD</th>\n",
       "      <th>ENTREPRENEURSHIP</th>\n",
       "      <th>PENSION</th>\n",
       "    </tr>\n",
       "  </thead>\n",
       "  <tbody>\n",
       "    <tr>\n",
       "      <th>0</th>\n",
       "      <td>75</td>\n",
       "      <td>20</td>\n",
       "      <td>75</td>\n",
       "      <td>25</td>\n",
       "    </tr>\n",
       "    <tr>\n",
       "      <th>1</th>\n",
       "      <td>100</td>\n",
       "      <td>80</td>\n",
       "      <td>100</td>\n",
       "      <td>50</td>\n",
       "    </tr>\n",
       "    <tr>\n",
       "      <th>2</th>\n",
       "      <td>75</td>\n",
       "      <td>60</td>\n",
       "      <td>75</td>\n",
       "      <td>25</td>\n",
       "    </tr>\n",
       "    <tr>\n",
       "      <th>3</th>\n",
       "      <td>50</td>\n",
       "      <td>60</td>\n",
       "      <td>100</td>\n",
       "      <td>25</td>\n",
       "    </tr>\n",
       "    <tr>\n",
       "      <th>4</th>\n",
       "      <td>50</td>\n",
       "      <td>0</td>\n",
       "      <td>75</td>\n",
       "      <td>75</td>\n",
       "    </tr>\n",
       "  </tbody>\n",
       "</table>\n",
       "</div>"
      ],
      "text/plain": [
       "   WORKPLACE  PARENTHOOD  ENTREPRENEURSHIP  PENSION\n",
       "0         75          20                75       25\n",
       "1        100          80               100       50\n",
       "2         75          60                75       25\n",
       "3         50          60               100       25\n",
       "4         50           0                75       75"
      ]
     },
     "execution_count": 17,
     "metadata": {},
     "output_type": "execute_result"
    }
   ],
   "source": [
    "# Make sure the order of columns in X_test is the same as in the X_train\n",
    "X_test = pd.read_excel('/Users/Cheryl/Downloads/WBL-1971-2022-Dataset-Updated.xlsx', sheet_name=3)\n",
    "X_test.head()"
   ]
  },
  {
   "cell_type": "code",
   "execution_count": 18,
   "id": "cf197487",
   "metadata": {},
   "outputs": [
    {
     "data": {
      "text/plain": [
       "0    53.515100\n",
       "1    76.361601\n",
       "2    59.667927\n",
       "3    55.865648\n",
       "4    50.782376\n",
       "dtype: float64"
      ]
     },
     "execution_count": 18,
     "metadata": {},
     "output_type": "execute_result"
    }
   ],
   "source": [
    "# Check test performance\n",
    "X_test = pd.read_excel('/Users/Cheryl/Downloads/WBL-1971-2022-Dataset-Updated.xlsx', sheet_name=3)[features]\n",
    "y_test_pred = pd.Series(model.predict(X_test))\n",
    "y_test_pred.head()"
   ]
  },
  {
   "cell_type": "code",
   "execution_count": 19,
   "id": "e65e722e",
   "metadata": {},
   "outputs": [
    {
     "name": "stdout",
     "output_type": "stream",
     "text": [
      "Test MAE: 21.99\n"
     ]
    }
   ],
   "source": [
    "# Calculate the test mean absolute error\n",
    "mae_test = mean_absolute_error(y_train, y_test_pred)\n",
    "print(\"Test MAE:\", round(mae_test, 2))"
   ]
  },
  {
   "cell_type": "markdown",
   "id": "438527ba",
   "metadata": {},
   "source": [
    "Our test performance is about the same as our training performance. The training (21.71) and test performance (21.99) are close to each other, this means our model will generalize well. "
   ]
  },
  {
   "cell_type": "markdown",
   "id": "e6a48801",
   "metadata": {},
   "source": [
    "### COMMUNICATE RESULTS"
   ]
  },
  {
   "cell_type": "code",
   "execution_count": 20,
   "id": "6ca4bf91",
   "metadata": {},
   "outputs": [
    {
     "name": "stdout",
     "output_type": "stream",
     "text": [
      "[0.27596311 0.15382069 0.12387194 0.14485535]\n"
     ]
    }
   ],
   "source": [
    "# Extract the intercepts from the model and assign to the variable intercepts\n",
    "intercept = model.named_steps[\"linearregression\"].intercept_\n",
    "coefficients = model.named_steps[\"linearregression\"].coef_\n",
    "print(coefficients)"
   ]
  },
  {
   "cell_type": "code",
   "execution_count": 21,
   "id": "91407fb3",
   "metadata": {},
   "outputs": [
    {
     "data": {
      "text/plain": [
       "['WORKPLACE', 'PARENTHOOD', 'ENTREPRENEURSHIP', 'PENSION']"
      ]
     },
     "execution_count": 21,
     "metadata": {},
     "output_type": "execute_result"
    }
   ],
   "source": [
    "# Extract feature names \n",
    "feature_names = model.named_steps[\"onehotencoder\"].get_feature_names()\n",
    "feature_names"
   ]
  },
  {
   "cell_type": "code",
   "execution_count": 22,
   "id": "1138e369",
   "metadata": {},
   "outputs": [
    {
     "data": {
      "text/plain": [
       "WORKPLACE           0.275963\n",
       "PARENTHOOD          0.153821\n",
       "ENTREPRENEURSHIP    0.123872\n",
       "PENSION             0.144855\n",
       "dtype: float64"
      ]
     },
     "execution_count": 22,
     "metadata": {},
     "output_type": "execute_result"
    }
   ],
   "source": [
    "# Pandas series where the index is \"features\" and values are the \"coefficients\"\n",
    "feat_imp = pd.Series(coefficients, index = feature_names)\n",
    "feat_imp.head()"
   ]
  },
  {
   "cell_type": "code",
   "execution_count": 23,
   "id": "d566195d",
   "metadata": {},
   "outputs": [
    {
     "name": "stdout",
     "output_type": "stream",
     "text": [
      "PAY = 16.83\n",
      " + (0.28 + WORKPLACE)\n",
      " + (0.15 + PARENTHOOD)\n",
      " + (0.12 + ENTREPRENEURSHIP)\n",
      " + (0.14 + PENSION)\n"
     ]
    }
   ],
   "source": [
    "# Print the equation for predicting pay based on WBL indicators\n",
    "print(f\"PAY = {intercept.round(2)}\")\n",
    "for f, c in feat_imp.items():\n",
    "    print(f\" + ({round(c, 2)} + {f})\")"
   ]
  },
  {
   "cell_type": "code",
   "execution_count": 24,
   "id": "edaaf04e",
   "metadata": {
    "scrolled": true
   },
   "outputs": [
    {
     "data": {
      "image/png": "[encoded data removed]",
      "text/plain": [
       "<Figure size 432x288 with 1 Axes>"
      ]
     },
     "metadata": {
      "needs_background": "light"
     },
     "output_type": "display_data"
    }
   ],
   "source": [
    "# Horizontal bar chart showing the top coefficients for your model\n",
    "feat_imp.sort_values(key=abs).plot(kind=\"barh\")\n",
    "plt.xlabel(\"Importance [PAY]\")\n",
    "plt.ylabel(\"Feature\")\n",
    "plt.title(\"Feature Importance for PAY Indicator\");"
   ]
  },
  {
   "cell_type": "markdown",
   "id": "e73176ef",
   "metadata": {},
   "source": [
    "Looking at this bar chart, you can see that the most important indicators are \"Workplace\" and \"Parenthood\" for your model in predicting equal pay.  "
   ]
  },
  {
   "cell_type": "code",
   "execution_count": null,
   "id": "883dfbee",
   "metadata": {},
   "outputs": [],
   "source": []
  }
 ],
 "metadata": {
  "kernelspec": {
   "display_name": "Python 3 (ipykernel)",
   "language": "python",
   "name": "python3"
  },
  "language_info": {
   "codemirror_mode": {
    "name": "ipython",
    "version": 3
   },
   "file_extension": ".py",
   "mimetype": "text/x-python",
   "name": "python",
   "nbconvert_exporter": "python",
   "pygments_lexer": "ipython3",
   "version": "3.10.6"
  }
 },
 "nbformat": 4,
 "nbformat_minor": 5
}
